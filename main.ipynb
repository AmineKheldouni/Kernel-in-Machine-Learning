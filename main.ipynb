{
 "cells": [
  {
   "cell_type": "code",
   "execution_count": 12,
   "metadata": {
    "collapsed": true
   },
   "outputs": [],
   "source": [
    "import matplotlib.pyplot as plt\n",
    "plt.style.use('ggplot')\n",
    "import numpy as np\n",
    "import pandas as pd\n",
    "from sklearn.svm import SVC\n",
    "# Training Support Vector Machines - SVM and calculating its performance\n",
    "\n",
    "from sklearn.pipeline import Pipeline\n",
    "from sklearn.feature_extraction.text import CountVectorizer\n",
    "from sklearn.feature_extraction.text import TfidfTransformer\n",
    "\n",
    "from sklearn.linear_model import SGDClassifier\n"
   ]
  },
  {
   "cell_type": "code",
   "execution_count": 29,
   "metadata": {
    "collapsed": false
   },
   "outputs": [],
   "source": [
    "# Read inputs\n",
    "Xtr0 = pd.read_csv('./data/Xtr0.csv', sep=',', header=0)\n",
    "Xtr1 = pd.read_csv('./data/Xtr1.csv', sep=',', header=0)\n",
    "Xtr2 = pd.read_csv('./data/Xtr2.csv', sep=',', header=0)\n",
    "\n",
    "Ytr0 = pd.read_csv('./data/Ytr0.csv', sep=',', header=0)\n",
    "Ytr1 = pd.read_csv('./data/Ytr1.csv', sep=',', header=0)\n",
    "Ytr2 = pd.read_csv('./data/Ytr2.csv', sep=',', header=0)\n",
    "\n",
    "Xte0 = pd.read_csv('./data/Xte0.csv', sep=',', header=0)\n",
    "Xte1 = pd.read_csv('./data/Xte1.csv', sep=',', header=0)\n",
    "Xte2 = pd.read_csv('./data/Xte2.csv', sep=',', header=0)\n",
    "\n",
    "Xtr = pd.concat([Xtr0, Xtr1, Xtr2])\n",
    "Ytr = pd.concat([Ytr0, Ytr1, Ytr2])\n",
    "Xte = pd.concat([Xte0, Xte1, Xte2])\n"
   ]
  },
  {
   "cell_type": "code",
   "execution_count": 90,
   "metadata": {
    "collapsed": false
   },
   "outputs": [
    {
     "data": {
      "text/plain": [
       "1.0"
      ]
     },
     "execution_count": 90,
     "metadata": {},
     "output_type": "execute_result"
    }
   ],
   "source": [
    "text_clf_svm = Pipeline([('vect', CountVectorizer()), ('tfidf', TfidfTransformer()),\n",
    "                         ('clf-svm', SGDClassifier(loss='hinge', penalty='l2',alpha=1e-3, max_iter=20, random_state=555))])\n",
    "\n",
    "text_clf_svm = text_clf_svm.fit(Xtr['seq'].values, Ytr['Bound'].values)\n",
    "predicted_svm = text_clf_svm.predict(Xtr['seq'].values)\n",
    "np.mean(predicted_svm == Ytr['Bound'].values)"
   ]
  },
  {
   "cell_type": "code",
   "execution_count": 57,
   "metadata": {
    "collapsed": true
   },
   "outputs": [],
   "source": [
    "def write_submission_file(model, Xte):\n",
    "    y_test = model.predict(Xte['seq'].values)\n",
    "    test_output = pd.DataFrame({\"ID\": np.arange(0,3000), \"Bound\": y_test})\n",
    "    test_output = test_output[[\"ID\",\"Bound\"]]\n",
    "    test_output.to_csv(\"./data/submission/Yte.csv\", sep=',', index=False)"
   ]
  },
  {
   "cell_type": "code",
   "execution_count": 54,
   "metadata": {
    "collapsed": false
   },
   "outputs": [],
   "source": [
    "write_submission_file(text_clf_svm, Xte)"
   ]
  }
 ],
 "metadata": {
  "kernelspec": {
   "display_name": "Python 3",
   "language": "python",
   "name": "python3"
  },
  "language_info": {
   "codemirror_mode": {
    "name": "ipython",
    "version": 3
   },
   "file_extension": ".py",
   "mimetype": "text/x-python",
   "name": "python",
   "nbconvert_exporter": "python",
   "pygments_lexer": "ipython3",
   "version": "3.5.4"
  }
 },
 "nbformat": 4,
 "nbformat_minor": 2
}
