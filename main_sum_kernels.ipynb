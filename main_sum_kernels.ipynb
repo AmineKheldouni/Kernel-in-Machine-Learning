{
 "cells": [
  {
   "cell_type": "code",
   "execution_count": 1,
   "metadata": {
    "collapsed": false
   },
   "outputs": [],
   "source": [
    "\n",
    "# -*- coding: utf-8 -*-\n",
    "\n",
    "import numpy as np\n",
    "import pandas as pd\n",
    "\n",
    "from submission import *\n",
    "from kernels.fast_spectrum_kernel import SpectrumKernel\n",
    "from kernels.fast_sum_spectrum_kernel import SumSpectrumKernel\n",
    "#from kernels.linear_kernel import LinearKernel\n",
    "#from kernels.levenshtein_kernel import LevenshteinKernel\n",
    "#from kernels.rbf_kernel import RBFKernel\n",
    "from kernels.mismatch_spectrum_kernel import MismatchSpectrumKernel\n",
    "from kernels.sum_kernel import SumKernel\n",
    "import time\n",
    "from utils import *\n",
    "\n",
    "def SVM_prediction(data_train, data_val, y_train, y_val, kernel, lbd=0.001):\n",
    "\n",
    "    svm = SVM(kernel, center=False)\n",
    "    svm.train(data_train, y_train, lbd)\n",
    "\n",
    "    predictions = np.array(np.sign(svm.predict(data_val)), dtype=int)\n",
    "\n",
    "    assert (predictions != 0).all()\n",
    "\n",
    "    return svm, svm.score_train(), 0\n"
   ]
  },
  {
   "cell_type": "code",
   "execution_count": 2,
   "metadata": {
    "collapsed": true
   },
   "outputs": [],
   "source": [
    "\n",
    "# Read training set 0\n",
    "Xtr0 = pd.read_csv('./data/Xtr0.csv', sep=',', header=0)\n",
    "Xtr0 = Xtr0['seq'].values\n",
    "\n",
    "Ytr0 = pd.read_csv('./data/Ytr0.csv', sep=',', header=0)\n",
    "Ytr0 = Ytr0['Bound'].values\n",
    "Ytr0 = 2*Ytr0-1\n",
    "\n",
    "# Read training set 1\n",
    "Xtr1 = pd.read_csv('./data/Xtr1.csv', sep=',', header=0)\n",
    "Xtr1 = Xtr1['seq'].values\n",
    "\n",
    "Ytr1 = pd.read_csv('./data/Ytr1.csv', sep=',', header=0)\n",
    "Ytr1 = Ytr1['Bound'].values\n",
    "Ytr1 = 2*Ytr1-1\n",
    "\n",
    "# Read training set 2\n",
    "Xtr2 = pd.read_csv('./data/Xtr2.csv', sep=',', header=0)\n",
    "Xtr2 = Xtr2['seq'].values\n",
    "\n",
    "Ytr2 = pd.read_csv('./data/Ytr2.csv', sep=',', header=0)\n",
    "Ytr2 = Ytr2['Bound'].values\n",
    "Ytr2 = 2*Ytr2-1\n",
    "\n",
    "X0_train, X0_val, y0_train, y0_val = train_val_split(Xtr0, Ytr0, split = 0)\n",
    "X1_train, X1_val, y1_train, y1_val = train_val_split(Xtr1, Ytr1, split = 0)\n",
    "X2_train, X2_val, y2_train, y2_val = train_val_split(Xtr2, Ytr2, split = 0)\n",
    "\n",
    "\n",
    "Xte0 = pd.read_csv('./data/Xte0.csv', sep=',', header=0)\n",
    "Xte0 = Xte0['seq'].values\n",
    "\n",
    "Xte1 = pd.read_csv('./data/Xte1.csv', sep=',', header=0)\n",
    "Xte1 = Xte1['seq'].values\n",
    "\n",
    "Xte2 = pd.read_csv('./data/Xte2.csv', sep=',', header=0)\n",
    "Xte2 = Xte2['seq'].values\n"
   ]
  },
  {
   "cell_type": "code",
   "execution_count": null,
   "metadata": {
    "collapsed": true
   },
   "outputs": [],
   "source": [
    "##############################################################################\n",
    "#############################  TRAIN SESSION #################################\n",
    "##############################################################################\n",
    "\n",
    "print(\">>> Set 0\")\n",
    "# k0 = 5\n",
    "kernel00 = MismatchSpectrumKernel(8, 2, normalize = True)\n",
    "kernel01 = MismatchSpectrumKernel(8, 1, normalize = True)\n",
    "kernel02 = MismatchSpectrumKernel(8, 0, normalize = True)\n",
    "kernel03 = MismatchSpectrumKernel(6, 2, normalize = True)\n",
    "kernel04 = MismatchSpectrumKernel(6, 1, normalize = True)\n",
    "kernel05 = MismatchSpectrumKernel(6, 0, normalize = True)\n",
    "kernel06 = MismatchSpectrumKernel(4, 2, normalize = True)\n",
    "kernel07 = MismatchSpectrumKernel(4, 1, normalize = True)\n",
    "kernel08 = MismatchSpectrumKernel(4, 0, normalize = True)\n",
    "kernel0 = SumKernel([kernel00, kernel01, kernel02, kernel03, kernel04, kernel05, kernel05, kernel06, kernel07, kernel08])\n",
    "\n",
    "# svm0, train_acc, val_acc = SVM_prediction(X0_train, X0_val, y0_train, y0_val, kernel0, 0.0006)\n",
    "svm0, train_acc, val_acc = SVM_prediction(Xtr0, Xte0, Ytr0, Ytr0, kernel0, 0.0006)\n",
    "\n",
    "print(\"Training accuracy:\", train_acc)\n",
    "print(\"Valudation accuracy:\", val_acc)"
   ]
  },
  {
   "cell_type": "code",
   "execution_count": null,
   "metadata": {
    "collapsed": true
   },
   "outputs": [],
   "source": [
    "###############################################################################\n",
    "print(\">>> Set 1\")\n",
    "kernel00 = MismatchSpectrumKernel(8, 2, normalize = True)\n",
    "kernel01 = MismatchSpectrumKernel(8, 1, normalize = True)\n",
    "kernel02 = MismatchSpectrumKernel(8, 0, normalize = True)\n",
    "kernel03 = MismatchSpectrumKernel(6, 2, normalize = True)\n",
    "kernel04 = MismatchSpectrumKernel(6, 1, normalize = True)\n",
    "kernel05 = MismatchSpectrumKernel(6, 0, normalize = True)\n",
    "kernel06 = MismatchSpectrumKernel(4, 2, normalize = True)\n",
    "kernel07 = MismatchSpectrumKernel(4, 1, normalize = True)\n",
    "kernel08 = MismatchSpectrumKernel(4, 0, normalize = True)\n",
    "kernel1 = SumKernel([kernel00, kernel01, kernel02, kernel03, kernel04, kernel05, kernel05, kernel06, kernel07, kernel08])\n",
    "\n",
    "# svm1, train_acc, val_acc = SVM_prediction(X1_train, X1_val, y1_train, y1_val, kernel1, 0.001)\n",
    "svm1, train_acc, val_acc = SVM_prediction(Xtr1, Xte1, Ytr1, Ytr1, kernel1, 0.001)\n",
    "print(\"Training accuracy:\", train_acc)\n",
    "print(\"Valudation accuracy:\", val_acc)\n"
   ]
  },
  {
   "cell_type": "code",
   "execution_count": null,
   "metadata": {
    "collapsed": true
   },
   "outputs": [],
   "source": [
    "###############################################################################\n",
    "print(\">>> Set 2\")\n",
    "\n",
    "kernel00 = MismatchSpectrumKernel(8, 2, normalize = True)\n",
    "kernel01 = MismatchSpectrumKernel(8, 1, normalize = True)\n",
    "kernel02 = MismatchSpectrumKernel(8, 0, normalize = True)\n",
    "kernel03 = MismatchSpectrumKernel(6, 2, normalize = True)\n",
    "kernel04 = MismatchSpectrumKernel(6, 1, normalize = True)\n",
    "kernel05 = MismatchSpectrumKernel(6, 0, normalize = True)\n",
    "kernel06 = MismatchSpectrumKernel(4, 2, normalize = True)\n",
    "kernel07 = MismatchSpectrumKernel(4, 1, normalize = True)\n",
    "kernel08 = MismatchSpectrumKernel(4, 0, normalize = True)\n",
    "kernel2 = SumKernel([kernel00, kernel01, kernel02, kernel03, kernel04, kernel05, kernel05, kernel06, kernel07, kernel08])\n",
    "\n",
    "# svm2, train_acc, val_acc = SVM_prediction(X2_train, X2_val, y2_train, y2_val, kernel2, 0.0008)\n",
    "svm2, train_acc, val_acc = SVM_prediction(Xtr2, Xte2, Ytr2, Ytr2, kernel2, 0.0008)\n",
    "print(\"Training accuracy:\", train_acc)\n",
    "print(\"Valudation accuracy:\", val_acc)"
   ]
  },
  {
   "cell_type": "code",
   "execution_count": null,
   "metadata": {
    "collapsed": true
   },
   "outputs": [],
   "source": [
    "###############################################################################\n",
    "##############################  TEST SESSION ##################################\n",
    "###############################################################################\n",
    "\n",
    "generate_submission_file(\"Yte_sum_mismatch.csv\", svm0, svm1, svm2, Xte0, Xte1, Xte2)\n"
   ]
  },
  {
   "cell_type": "code",
   "execution_count": 3,
   "metadata": {
    "collapsed": true
   },
   "outputs": [],
   "source": [
    "import copy\n",
    "\n",
    "def kfold_cross_validation(data, predictions, kernels, list_lambda, k=10):\n",
    "    permutation = np.random.permutation(len(data))\n",
    "    predictions = predictions[permutation]\n",
    "    data = data[permutation]\n",
    "    nfold = len(data) // k\n",
    "    scores = np.zeros((k, len(list_lambda), 3))\n",
    "    for i in range(k):\n",
    "        for j in range(len(list_lambda)):\n",
    "            for d in range(3):\n",
    "                print(\"##############################\")\n",
    "                print(\"Performing Fold {}\".format(i+1))\n",
    "                data_val = data[d][i*nfold:(i+1)*nfold]\n",
    "                y_val = predictions[d][i*nfold:(i+1)*nfold]\n",
    "                data_train = data[d][:i*nfold] + data[d][(i+1)*nfold:]\n",
    "                y_train = predictions[d][:i*nfold] + predictions[d][(i+1)*nfold:]\n",
    "                svm, train_acc, val_acc = SVM_prediction(data_train, \n",
    "                                                         data_val, \n",
    "                                                         y_train, \n",
    "                                                         y_val, \n",
    "                                                         kernels[d], \n",
    "                                                         list_lambda[j])\n",
    "                print(\"Training accuracy:\", train_acc)\n",
    "                print(\"Valudation accuracy:\", val_acc)\n",
    "                print(\"######\")\n",
    "                scores[i,j,d] = val_acc\n",
    "    \n",
    "    print(\"####################################\")    \n",
    "    return scores, np.mean(scores,axis=0)\n",
    "        \n",
    "kfold_cross_validation([Xtr0,Xtr1,Xtr2], \n",
    "                       [Ytr0,Ytr1,Ytr2], \n",
    "                       [kernel0, kernel1, kernel2], \n",
    "                       np.linspace(1e-4, 2e-1, 5), \n",
    "                       k=10)"
   ]
  },
  {
   "cell_type": "code",
   "execution_count": null,
   "metadata": {
    "collapsed": true
   },
   "outputs": [],
   "source": []
  }
 ],
 "metadata": {
  "kernelspec": {
   "display_name": "Python 3",
   "language": "python",
   "name": "python3"
  },
  "language_info": {
   "codemirror_mode": {
    "name": "ipython",
    "version": 3
   },
   "file_extension": ".py",
   "mimetype": "text/x-python",
   "name": "python",
   "nbconvert_exporter": "python",
   "pygments_lexer": "ipython3",
   "version": "3.5.4"
  }
 },
 "nbformat": 4,
 "nbformat_minor": 2
}
