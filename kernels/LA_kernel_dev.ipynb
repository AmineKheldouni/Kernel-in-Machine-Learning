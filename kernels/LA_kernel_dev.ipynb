{
 "cells": [
  {
   "cell_type": "code",
   "execution_count": 3,
   "metadata": {},
   "outputs": [],
   "source": [
    "from tqdm import tqdm\n",
    "import numpy as np\n",
    "from kernels.kernel import Kernel\n",
    "\n",
    "class LAKernel(Kernel):\n",
    "\n",
    "    #http://cazencott.info/dotclear/public/publications/Azencott_KernelsForSequences09.pdf\n",
    "    #https://www.cs.princeton.edu/~bee/courses/read/saigo-bioinformatics-2004.pdf?fbclid=IwAR0LjydQ9kD6FY8ISBsRiYGk_7iopyQAwVKGvzCFoF9EO-O6498av6NcRK4\n",
    "\n",
    "    def __init__(self):\n",
    "        super().__init__()\n",
    "\n",
    "        # gap penalty\n",
    "        self.d = 1. #gap opening\n",
    "        self.e = 1. #11. #extension cost\n",
    "\n",
    "        #against diagonal dominance\n",
    "        self.beta = 0.5\n",
    "        \n",
    "        #csts used in dynamic programming\n",
    "        self.cst1 = np.exp(self.beta*self.d)\n",
    "        self.cst2 = np.exp(self.beta*self.e)\n",
    "\n",
    "        self.type = \"BLAST\" #or \"Transversion\" #or \"\"Identity\"\n",
    "\n",
    "    def score_substitution(self, x, y):\n",
    "        # substitution table\n",
    "        # https://en.wikipedia.org/wiki/Substitution_matrix\n",
    "        # (https://en.wikipedia.org/wiki/Models_of_DNA_evolution)\n",
    "        # https://slideplayer.com/slide/5092656/\n",
    "\n",
    "        if self.type == \"BLAST\":\n",
    "            equal = int(x==y)\n",
    "            return 5 * equal - 4 * (1-equal)\n",
    "        elif self.type == \"Transversion\":\n",
    "            equal = int(x == y)\n",
    "            return 1 * equal - 5 * (1 - equal)\n",
    "        elif self.type==\"Identity\":\n",
    "            equal = int(x == y)\n",
    "            return equal\n",
    "        else:\n",
    "            exit()\n",
    "\n",
    "    def evaluate(self, x, y):\n",
    "        \"\"\"\n",
    "        Evaluation function computing the inner product between phi_x and phi_y\n",
    "        \"\"\"\n",
    "\n",
    "        #print(x[0],y[0])\n",
    "\n",
    "        nx = len(x[0])+1\n",
    "        ny = len(y[0])+1\n",
    "        M =  np.zeros((nx,ny))\n",
    "        X =  np.zeros((nx,ny))\n",
    "        Y =  np.zeros((nx,ny))\n",
    "        X2 = np.zeros((nx,ny))\n",
    "        Y2 = np.zeros((nx,ny))\n",
    "        \n",
    "        for i in range(1,nx):\n",
    "            for j in range(1,ny):\n",
    "                \n",
    "                #print(cst1,cst2)\n",
    "                s = self.score_substitution(x[0][i-1],y[0][j-1])\n",
    "                M[i,j] = np.exp(self.beta*s)*(1+X[i-1][j-1]+Y[i-1][j-1]+M[i-1][j-1])\n",
    "                X[i,j] = self.cst1*M[i-1,j] + self.cst2*X[i-1,j]\n",
    "                Y[i,j] = self.cst1*(M[i,j-1] + X[i,j-1]) + self.cst2*Y[i,j-1]\n",
    "                X2[i,j] = M[i-1,j] + X2[i-1,j]\n",
    "                Y2[i,j] = M[i,j-1] + X2[i,j-1] + Y2[i,j-1]\n",
    "                \n",
    "        #print(1 + X2[-1,-1] + Y2[-1,-1] + M[-1,-1])\n",
    "\n",
    "        return 1/self.beta * np.log(1 + X2[-1,-1] + Y2[-1,-1] + M[-1,-1])\n",
    "\n",
    "    def compute_train(self, Xtr):\n",
    "        print(\"Computing Train Kernel ...\")\n",
    "        start = time.time()\n",
    "        n = len(Xtr)\n",
    "        K = np.zeros((n, n))\n",
    "        pairs = []\n",
    "        for i in range(n):\n",
    "            for j in range(i + 1):\n",
    "                pairs.append((i,j))\n",
    "        for (i,j) in tqdm(pairs):\n",
    "                K[j, i] = self.evaluate(Xtr[i], Xtr[j])\n",
    "        # Symmetrize Kernel\n",
    "        K = K + K.T - np.diag(K.diagonal())\n",
    "        \n",
    "        eigenv = None #smallest negative eigenvalue\n",
    "        for e in np.real(np.linalg.eigvals(K)):\n",
    "            if e<0:\n",
    "                if eigenv is None:\n",
    "                    eigenv = e\n",
    "                else:\n",
    "                    eigenv = max(eigenv,e)\n",
    "        if not(eigenv is None):\n",
    "            K = K - eigenv * np.eye(n)\n",
    "            \n",
    "        end = time.time()\n",
    "        print(\"Time elapsed: {0:.2f}\".format(end - start))\n",
    "\n",
    "        return K\n",
    "\n",
    "    def compute_test(self, Xtr, Xte):\n",
    "        print(\"Computing Test Kernel ...\")\n",
    "        start = time.time()\n",
    "        n = len(Xtr)\n",
    "        m = len(Xte)\n",
    "        K_t = np.zeros((m, n))\n",
    "        pairs = []\n",
    "        for k in range(m):\n",
    "            for j in range(n):\n",
    "                pairs.append((k,j))\n",
    "                \n",
    "        for (k,j) in tqdm(pairs):\n",
    "            K_t[k, j] = self.evaluate(Xte[k], Xtr[j])\n",
    "\n",
    "        #if not(self.smallest_neg_eigenv_train is None):\n",
    "        #    K_t = K_t - self.smallest_neg_eigenv_train * np.eye(m)[:,:n]\n",
    "\n",
    "        end = time.time()\n",
    "        print(\"Time elapsed: {0:.2f}\".format(end - start))\n",
    "        return K_t\n"
   ]
  },
  {
   "cell_type": "code",
   "execution_count": 4,
   "metadata": {},
   "outputs": [],
   "source": [
    "import numpy as np\n",
    "from cvxopt import matrix, solvers\n",
    "from kernels.centered_kernel import *\n",
    "\n",
    "import math\n",
    "EPS = math.pow(10,-5)\n",
    "\n",
    "class SVM:\n",
    "    \"\"\"\n",
    "        Implements Support Vector Machine.\n",
    "    \"\"\"\n",
    "\n",
    "    def __init__(self, kernel=None, center=False):\n",
    "        self.kernel = kernel\n",
    "        self.center = center\n",
    "\n",
    "    def init_train(self, Xtr, Ytr, K):\n",
    "\n",
    "        self.Xtr = Xtr\n",
    "        self.Ytr = Ytr\n",
    "        self.n = len(Xtr)\n",
    "\n",
    "        if self.center:\n",
    "            print(\"Centered K\")\n",
    "            if not isinstance(self.kernel, CenteredKernel):\n",
    "                self.kernel = CenteredKernel(self.kernel)\n",
    "        if K is None:\n",
    "            print(\"Building the Kernel ...\")\n",
    "            self.K = self.kernel.compute_train(self.Xtr)\n",
    "            print(\"Kernel built successfully !\")\n",
    "        else:\n",
    "            self.K = K\n",
    "\n",
    "    def train(self, Xtr, Ytr, lambd=1, K=None):\n",
    "        self.init_train(Xtr, Ytr, K)\n",
    "        print(\"Solving SVM optimization, please wait ...\")\n",
    "        P = matrix(self.K, tc='d')\n",
    "        q = matrix(-Ytr, tc='d')\n",
    "        G = matrix(np.append(np.diag(-Ytr.astype(float)), np.diag(Ytr.astype(float)), axis=0), tc='d')\n",
    "        h = matrix(np.append(np.zeros(self.n), np.ones(self.n, dtype=float) / (2 * lambd * self.n), axis=0), tc='d')\n",
    "        solvers.options['show_progress'] = False\n",
    "        self.alpha = np.array(solvers.qp(P, q, G, h)['x'])\n",
    "        print(\"SVM optimization solved !\")\n",
    "\n",
    "        self.alpha = self.alpha.flatten()\n",
    "\n",
    "        self.idx_SV = np.argwhere(np.abs(self.alpha)>EPS).flatten()\n",
    "        print(\"number of SV : \", self.idx_SV.shape[0])\n",
    "    \n",
    "        self.Xtr_SV = {i:self.Xtr[self.idx_SV[i]] for i in range(self.idx_SV.shape[0])}\n",
    "        self.alpha_SV = self.alpha[np.ix_(self.idx_SV)]\n",
    "        print(\"alpha values of SV \", self.alpha_SV)\n",
    "\n",
    "    def score_train(self):\n",
    "        if self.center:\n",
    "            f = np.sign(self.K.dot(self.alpha.reshape((self.alpha.size, 1))))\n",
    "        else:\n",
    "            K_t = self.K[np.ix_(np.arange(self.n),self.idx_SV)]\n",
    "            f = np.sign(K_t.dot(self.alpha_SV.reshape((self.alpha_SV.size, 1))))\n",
    "        return np.mean(f.reshape(-1)==self.Ytr)\n",
    "\n",
    "    def predict(self, Xte, K_t=None):\n",
    "        print(\"Predicting Test sets, please wait ...\")\n",
    "        if self.center:\n",
    "            if K_t is None:\n",
    "                self.K_t = self.kernel.compute_test(self.Xtr, Xte)\n",
    "            else:\n",
    "                self.K_t = K_t\n",
    "            Yte = self.K_t.dot(self.alpha.reshape((self.alpha.size, 1))).reshape(-1)\n",
    "        else:\n",
    "            if K_t is None:\n",
    "                self.K_t = self.kernel.compute_test(self.Xtr_SV, Xte)\n",
    "            else:\n",
    "                self.K_t = K_t\n",
    "            Yte = self.K_t.dot(self.alpha_SV.reshape((self.alpha_SV.size, 1))).reshape(-1)\n",
    "        print(\"Test predictions computed successfully !\")\n",
    "        return np.sign(Yte)\n",
    "\n",
    "    def score(self, Xt, Yt):\n",
    "        predictions = self.predict(Xt, K_t=None)\n",
    "        #print(predictions,Yt)\n",
    "        return np.mean(predictions==Yt)"
   ]
  },
  {
   "cell_type": "code",
   "execution_count": 5,
   "metadata": {},
   "outputs": [],
   "source": [
    "import numpy as np\n",
    "import pandas as pd\n",
    "\n",
    "from submission import *\n",
    "import time\n",
    "from utils import *\n",
    "\n",
    "\n",
    "# Read training set 0\n",
    "Xtr0 = pd.read_csv('./data/Xtr0.csv', sep=',', header=0)\n",
    "Xtr0 = Xtr0['seq'].values\n",
    "\n",
    "Ytr0 = pd.read_csv('./data/Ytr0.csv', sep=',', header=0)\n",
    "Ytr0 = Ytr0['Bound'].values\n",
    "# Map the 0/1 labels to -1/1\n",
    "Ytr0 = 2*Ytr0-1\n",
    "\n",
    "###############################################################################\n",
    "##############################  TRAIN SESSION #################################\n",
    "###############################################################################\n",
    "\n",
    "end_train = 100\n",
    "end_val = 20\n",
    "X_tr0_train = Xtr0[:end_train]\n",
    "Y_tr0_train = Ytr0[:end_train]\n",
    "X_tr0_val = Xtr0[end_train:end_train+end_val]\n",
    "Y_tr0_val = Ytr0[end_train:end_train+end_val]"
   ]
  },
  {
   "cell_type": "code",
   "execution_count": 6,
   "metadata": {},
   "outputs": [
    {
     "name": "stdout",
     "output_type": "stream",
     "text": [
      ">>> Set 0\n"
     ]
    }
   ],
   "source": [
    "print(\">>> Set 0\")\n",
    "Xtr0_merged = {}\n",
    "for i in range(end_train): #len(Xtr0)\n",
    "    Xtr0_merged[i] = (X_tr0_train[i],) \n",
    "Xtr0 = Xtr0_merged.copy()\n",
    "\n",
    "Xval0_merged = {}\n",
    "for i in range(end_val): #len(Xtr0)\n",
    "    Xval0_merged[i] = (X_tr0_val[i],) \n",
    "Xval0 = Xval0_merged.copy()"
   ]
  },
  {
   "cell_type": "code",
   "execution_count": 7,
   "metadata": {},
   "outputs": [
    {
     "name": "stderr",
     "output_type": "stream",
     "text": [
      "  0%|          | 2/5050 [00:00<05:52, 14.31it/s]"
     ]
    },
    {
     "name": "stdout",
     "output_type": "stream",
     "text": [
      "Building the Kernel ...\n",
      "Computing Train Kernel ...\n"
     ]
    },
    {
     "name": "stderr",
     "output_type": "stream",
     "text": [
      "100%|██████████| 5050/5050 [06:04<00:00, 13.89it/s]"
     ]
    },
    {
     "name": "stdout",
     "output_type": "stream",
     "text": [
      "Time elapsed: 364.19\n",
      "Kernel built successfully !\n",
      "Solving SVM optimization, please wait ...\n",
      "SVM optimization solved !\n",
      "number of SV :  94\n",
      "alpha values of SV  [-1.92418638e-04  4.99999993e-04  4.99999993e-04 -4.99999514e-04\n",
      "  4.99999993e-04 -4.49869392e-04 -4.62044143e-04 -4.99999364e-04\n",
      " -1.36269538e-04 -3.39592713e-04 -4.99996115e-04 -4.99999219e-04\n",
      "  4.99999993e-04  4.99999993e-04 -3.13226340e-04 -4.99999175e-04\n",
      "  4.99999993e-04 -4.99978796e-04 -4.99998832e-04  4.99999993e-04\n",
      " -2.16685314e-04 -4.98044963e-04 -4.99998221e-04  4.99999993e-04\n",
      "  4.99999993e-04  4.99999993e-04  4.99999993e-04  4.99999993e-04\n",
      "  4.99999993e-04 -4.10809968e-04  4.99999993e-04 -1.22475708e-04\n",
      " -4.99998598e-04 -4.99997581e-04 -4.99985402e-04 -4.35173824e-04\n",
      " -1.24683985e-05  4.99999993e-04  4.99999993e-04  4.99999993e-04\n",
      " -2.51624053e-04 -4.99997753e-04 -2.04948836e-04  4.99999993e-04\n",
      "  4.99999993e-04  4.99999993e-04 -4.98024249e-04 -2.91610799e-04\n",
      " -7.88253666e-05  4.99999993e-04 -4.99997826e-04 -4.99998795e-04\n",
      " -4.11300368e-04 -4.99998086e-04 -4.14932576e-04 -1.55455580e-04\n",
      " -4.99997673e-04 -4.97391247e-04 -1.42640576e-04  4.99999993e-04\n",
      "  4.99999993e-04  4.99999993e-04  4.99999993e-04 -2.61171695e-04\n",
      "  4.99999993e-04 -4.99999249e-04  4.99999993e-04  4.99999993e-04\n",
      " -4.99998713e-04  4.99999993e-04 -4.30588307e-04  4.99999993e-04\n",
      "  4.99999993e-04 -4.99983434e-04  4.99999993e-04 -4.99904499e-04\n",
      "  4.99999993e-04 -4.99967549e-04  4.99999993e-04  4.99999993e-04\n",
      " -2.45828505e-04  4.99999993e-04 -3.57114123e-04 -4.99997969e-04\n",
      " -4.99998460e-04 -2.41249833e-04 -4.06680261e-04  4.99999993e-04\n",
      "  4.99999993e-04  4.99999993e-04 -4.15597684e-04 -4.99996742e-04\n",
      " -4.99991725e-04 -1.74210326e-04]\n",
      "Training accuracy: 0.61\n"
     ]
    },
    {
     "name": "stderr",
     "output_type": "stream",
     "text": [
      "\n"
     ]
    }
   ],
   "source": [
    "lbd0 = 10.\n",
    "\n",
    "svm0 = SVM(LAKernel(), center=False)\n",
    "svm0.train(Xtr0, Y_tr0_train, lbd0)\n",
    "\n",
    "print(\"Training accuracy:\", svm0.score_train())"
   ]
  },
  {
   "cell_type": "code",
   "execution_count": 8,
   "metadata": {},
   "outputs": [
    {
     "name": "stdout",
     "output_type": "stream",
     "text": [
      "[-1.92418638e-04  4.99999993e-04  4.99999993e-04 -4.99999514e-04\n",
      "  4.99999993e-04 -4.49869392e-04 -4.62044143e-04 -4.99999364e-04\n",
      " -1.36269538e-04 -3.39592713e-04 -4.99996115e-04 -4.99999219e-04\n",
      "  4.99999993e-04  4.99999993e-04 -3.13226340e-04 -4.99999175e-04\n",
      "  4.99999993e-04 -4.99978796e-04 -4.99998832e-04  4.99999993e-04\n",
      " -2.16685314e-04 -4.98044963e-04 -4.99998221e-04  4.99999993e-04\n",
      "  4.99999993e-04  4.99999993e-04  4.99999993e-04  4.99999993e-04\n",
      "  4.99999993e-04 -4.10809968e-04  4.99999993e-04 -1.22475708e-04\n",
      " -4.99998598e-04 -4.99997581e-04 -4.99985402e-04 -4.35173824e-04\n",
      " -1.24683985e-05  4.99999993e-04  4.99999993e-04  4.99999993e-04\n",
      " -2.51624053e-04 -4.99997753e-04 -2.04948836e-04  4.99999993e-04\n",
      "  4.99999993e-04  4.99999993e-04 -4.98024249e-04 -2.91610799e-04\n",
      " -7.88253666e-05  4.99999993e-04 -4.99997826e-04 -4.99998795e-04\n",
      " -4.11300368e-04 -4.99998086e-04 -4.14932576e-04 -1.55455580e-04\n",
      " -4.99997673e-04 -4.97391247e-04 -1.42640576e-04  4.99999993e-04\n",
      "  4.99999993e-04  4.99999993e-04  4.99999993e-04 -2.61171695e-04\n",
      "  4.99999993e-04 -4.99999249e-04  4.99999993e-04  4.99999993e-04\n",
      " -4.99998713e-04  4.99999993e-04 -4.30588307e-04  4.99999993e-04\n",
      "  4.99999993e-04 -4.99983434e-04  4.99999993e-04 -4.99904499e-04\n",
      "  4.99999993e-04 -4.99967549e-04  4.99999993e-04  4.99999993e-04\n",
      " -2.45828505e-04  4.99999993e-04 -3.57114123e-04 -4.99997969e-04\n",
      " -4.99998460e-04 -2.41249833e-04 -4.06680261e-04  4.99999993e-04\n",
      "  4.99999993e-04  4.99999993e-04 -4.15597684e-04 -4.99996742e-04\n",
      " -4.99991725e-04 -1.74210326e-04]\n"
     ]
    }
   ],
   "source": [
    "print(svm0.alpha_SV)\n",
    "#print(s)"
   ]
  },
  {
   "cell_type": "code",
   "execution_count": 9,
   "metadata": {
    "scrolled": true
   },
   "outputs": [
    {
     "name": "stderr",
     "output_type": "stream",
     "text": [
      "  0%|          | 2/1880 [00:00<02:16, 13.79it/s]"
     ]
    },
    {
     "name": "stdout",
     "output_type": "stream",
     "text": [
      "Predicting Test sets, please wait ...\n",
      "Computing Test Kernel ...\n"
     ]
    },
    {
     "name": "stderr",
     "output_type": "stream",
     "text": [
      "100%|██████████| 1880/1880 [02:14<00:00, 13.87it/s]"
     ]
    },
    {
     "name": "stdout",
     "output_type": "stream",
     "text": [
      "Time elapsed: 134.56\n",
      "Test predictions computed successfully !\n"
     ]
    },
    {
     "name": "stderr",
     "output_type": "stream",
     "text": [
      "\n"
     ]
    }
   ],
   "source": [
    "s = svm0.score(Xval0, Y_tr0_val)"
   ]
  },
  {
   "cell_type": "code",
   "execution_count": 10,
   "metadata": {},
   "outputs": [
    {
     "name": "stdout",
     "output_type": "stream",
     "text": [
      "0.55\n"
     ]
    }
   ],
   "source": [
    "print(s)"
   ]
  }
 ],
 "metadata": {
  "kernelspec": {
   "display_name": "Python 3",
   "language": "python",
   "name": "python3"
  },
  "language_info": {
   "codemirror_mode": {
    "name": "ipython",
    "version": 3
   },
   "file_extension": ".py",
   "mimetype": "text/x-python",
   "name": "python",
   "nbconvert_exporter": "python",
   "pygments_lexer": "ipython3",
   "version": "3.5.2"
  }
 },
 "nbformat": 4,
 "nbformat_minor": 2
}
